{
 "metadata": {
  "language_info": {
   "codemirror_mode": {
    "name": "ipython",
    "version": 3
   },
   "file_extension": ".py",
   "mimetype": "text/x-python",
   "name": "python",
   "nbconvert_exporter": "python",
   "pygments_lexer": "ipython3",
   "version": "3.8.5-final"
  },
  "orig_nbformat": 2,
  "kernelspec": {
   "name": "python3",
   "display_name": "Python 3",
   "language": "python"
  }
 },
 "nbformat": 4,
 "nbformat_minor": 2,
 "cells": [
  {
   "cell_type": "code",
   "execution_count": 95,
   "metadata": {},
   "outputs": [],
   "source": [
    "import numpy as np\n",
    "import pandas as pd"
   ]
  },
  {
   "cell_type": "code",
   "execution_count": 96,
   "metadata": {},
   "outputs": [],
   "source": [
    "SG = 0.8\n",
    "Pb = 14.7 #psi\n",
    "Tb = 60+460 #R\n",
    "\n",
    "Ts = 90+460 #R\n",
    "Ps = 250 #psi\n",
    "Pd = 600 #psi\n",
    "\n",
    "q = 35 #MMscfd\n",
    "k = 1.3"
   ]
  },
  {
   "source": [
    "## 2a Reciprocating Compressor"
   ],
   "cell_type": "markdown",
   "metadata": {}
  },
  {
   "cell_type": "code",
   "execution_count": 97,
   "metadata": {},
   "outputs": [
    {
     "output_type": "execute_result",
     "data": {
      "text/plain": [
       "(1.320952565313899, 0.3772846851393297)"
      ]
     },
     "metadata": {},
     "execution_count": 97
    }
   ],
   "source": [
    "#Find Z\n",
    "\n",
    "Ppc = 709.604 - 58.718*SG\n",
    "Tpc = 170.491 + 307.344*SG\n",
    "\n",
    "Tpr = Ts/Tpc\n",
    "Ppr = Ps/Ppc\n",
    "\n",
    "Tpr,Ppr"
   ]
  },
  {
   "cell_type": "code",
   "execution_count": 98,
   "metadata": {},
   "outputs": [],
   "source": [
    "def z(Tpr,Ppr):\n",
    "    Az = 1.39*(Tpr-0.92)**0.5-0.36*Tpr-0.1\n",
    "    Cz = 0.132 - 0.32*np.log10(Tpr)\n",
    "    Ez = 9*(Tpr-1)\n",
    "    Fz = 0.3106 - 0.49*Tpr+0.1824*Tpr**2\n",
    "    Dz = 10**Fz\n",
    "    Bz = (0.62-0.23*Tpr)*Ppr +(0.066/(Tpr-0.86)-0.037)*Ppr**2+0.32*Ppr**6/10**Ez\n",
    "\n",
    "    zCorr = Az + (1-Az)/np.exp(Bz) + Cz * Ppr**Dz\n",
    "    return zCorr"
   ]
  },
  {
   "cell_type": "code",
   "execution_count": 99,
   "metadata": {},
   "outputs": [],
   "source": [
    "za = z(Tpr,Ppr)"
   ]
  },
  {
   "cell_type": "code",
   "execution_count": 100,
   "metadata": {},
   "outputs": [
    {
     "output_type": "execute_result",
     "data": {
      "text/plain": [
       "0.9492043323965326"
      ]
     },
     "metadata": {},
     "execution_count": 100
    }
   ],
   "source": [
    "za"
   ]
  },
  {
   "source": [
    "# -w analytical approach for reciprocating compressor (hp/MMscfd)\n",
    "\n",
    "a1 = (k/(k-1))*3.027*(Pb/Tb)*Ts*((Pd/Ps)**(za*(k-1)/k)-1)\n",
    "a1"
   ],
   "cell_type": "code",
   "metadata": {},
   "execution_count": 101,
   "outputs": [
    {
     "output_type": "execute_result",
     "data": {
      "text/plain": [
       "43.11186578471977"
      ]
     },
     "metadata": {},
     "execution_count": 101
    }
   ]
  },
  {
   "cell_type": "code",
   "execution_count": 102,
   "metadata": {},
   "outputs": [
    {
     "output_type": "execute_result",
     "data": {
      "text/plain": [
       "(24305.555555555555, 1511.6185897435896)"
      ]
     },
     "metadata": {},
     "execution_count": 102
    }
   ],
   "source": [
    "#standar q to cfm (as q1) calculation\n",
    "\n",
    "q0 = q*1e6/24/60\n",
    "q1 = (14.7/250)*(550/520)*q0\n",
    "q0,q1"
   ]
  },
  {
   "cell_type": "code",
   "execution_count": 103,
   "metadata": {},
   "outputs": [
    {
     "output_type": "execute_result",
     "data": {
      "text/plain": [
       "0.7053832667257183"
      ]
     },
     "metadata": {},
     "execution_count": 103
    }
   ],
   "source": [
    "#Polytropic Effeciency\n",
    "\n",
    "Ep = 0.61+0.03*np.log10(q1)\n",
    "Ep"
   ]
  },
  {
   "cell_type": "code",
   "execution_count": 104,
   "metadata": {},
   "outputs": [
    {
     "output_type": "execute_result",
     "data": {
      "text/plain": [
       "61.11835624459662"
      ]
     },
     "metadata": {},
     "execution_count": 104
    }
   ],
   "source": [
    "#bhp/MMscfd\n",
    "\n",
    "a1/Ep"
   ]
  },
  {
   "cell_type": "code",
   "execution_count": 105,
   "metadata": {},
   "outputs": [
    {
     "output_type": "execute_result",
     "data": {
      "text/plain": [
       "2139.1424685608818"
      ]
     },
     "metadata": {},
     "execution_count": 105
    }
   ],
   "source": [
    "#total bhp\n",
    "\n",
    "a1/Ep*35"
   ]
  },
  {
   "source": [
    "## 2b Centrifugal Compressor"
   ],
   "cell_type": "markdown",
   "metadata": {}
  },
  {
   "cell_type": "code",
   "execution_count": 106,
   "metadata": {},
   "outputs": [
    {
     "output_type": "execute_result",
     "data": {
      "text/plain": [
       "0.3271543877705328"
      ]
     },
     "metadata": {},
     "execution_count": 106
    }
   ],
   "source": [
    "#Polytropic Ratio Calculation\n",
    "Rp = (k-1)/k/Ep\n",
    "Rp"
   ]
  },
  {
   "cell_type": "code",
   "execution_count": 107,
   "metadata": {},
   "outputs": [
    {
     "output_type": "execute_result",
     "data": {
      "text/plain": [
       "732.4035918503201"
      ]
     },
     "metadata": {},
     "execution_count": 107
    }
   ],
   "source": [
    "#Discharge Temperature Calculation\n",
    "Td = Ts*(Pd/Ps)**(Rp)\n",
    "Td"
   ]
  },
  {
   "cell_type": "code",
   "execution_count": 108,
   "metadata": {},
   "outputs": [
    {
     "output_type": "execute_result",
     "data": {
      "text/plain": [
       "272.40359185032014"
      ]
     },
     "metadata": {},
     "execution_count": 108
    }
   ],
   "source": [
    "#T discharge in Fahreinheit\n",
    "Td-460"
   ]
  },
  {
   "cell_type": "code",
   "execution_count": 110,
   "metadata": {},
   "outputs": [
    {
     "output_type": "execute_result",
     "data": {
      "text/plain": [
       "1501.4216840551285"
      ]
     },
     "metadata": {},
     "execution_count": 110
    }
   ],
   "source": [
    "(zs/zd)*(Pb/Ps)*(Ts/Tb)*q0"
   ]
  },
  {
   "cell_type": "code",
   "execution_count": 170,
   "metadata": {},
   "outputs": [
    {
     "output_type": "execute_result",
     "data": {
      "text/plain": [
       "(0.9492043323965326, 0.9556508538230679)"
      ]
     },
     "metadata": {},
     "execution_count": 170
    }
   ],
   "source": [
    "#Z Factor Calculation for Discharge and Suction condition\n",
    "#S: suction, 250 psi and 90 deg F (550 R)\n",
    "#D: discharge, 600 psi and 272 deg F (732 R)\n",
    "\n",
    "zs = z(Ts/Tpc,Ps/Ppc)\n",
    "zd = z(Td/Tpc,Pd/Ppc)\n",
    "\n",
    "zs,zd"
   ]
  },
  {
   "cell_type": "code",
   "execution_count": 186,
   "metadata": {},
   "outputs": [
    {
     "output_type": "execute_result",
     "data": {
      "text/plain": [
       "(0.9492043323965326, 0.9556576872465696)"
      ]
     },
     "metadata": {},
     "execution_count": 186
    }
   ],
   "source": [
    "#Convergency Test\n",
    "\n",
    "eps = 1e-2\n",
    "l = 0\n",
    "zd0 = zd\n",
    "for i in range(0,1000):\n",
    "    q1_i = (zs/zd0)*(Pb/Ps)*(Ts/Tb)*q0\n",
    "    Ep_i = 0.61 + 0.03 * np.log10(q1_i)\n",
    "    Rp_i = (k-1)/k/Ep_i\n",
    "    Td_i = Ts*(Pd/Ps)**Rp_i\n",
    "\n",
    "    zd0 = z(Td_i/Tpc,Pd/Ppc)\n",
    "    l = l+1\n",
    "zs,zd0\n",
    "\n",
    "#Result: It is not going to be convergence"
   ]
  },
  {
   "cell_type": "code",
   "execution_count": 189,
   "metadata": {},
   "outputs": [
    {
     "output_type": "execute_result",
     "data": {
      "text/plain": [
       "2363.9224525149752"
      ]
     },
     "metadata": {},
     "execution_count": 189
    }
   ],
   "source": [
    "HPg = ((q1_i*Ps)/(229*Ep_i))*((zs+zd0)/(2*zs))*(((Pd/Ps)**Rp_i-1)/Rp_i)\n",
    "HPg"
   ]
  },
  {
   "cell_type": "code",
   "execution_count": null,
   "metadata": {},
   "outputs": [],
   "source": [
    "HPg_total = HPg + 50"
   ]
  }
 ]
}